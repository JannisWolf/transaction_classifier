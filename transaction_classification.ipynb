{
 "cells": [
  {
   "cell_type": "markdown",
   "metadata": {},
   "source": [
    "# Transaction Classification using Naive Bayes Classifier\n",
    "\n",
    "First manage all the imports and set the random seed for reproducibility:"
   ]
  },
  {
   "cell_type": "code",
   "execution_count": 1,
   "metadata": {},
   "outputs": [],
   "source": [
    "import numpy as np\n",
    "import pandas as pd\n",
    "\n",
    "from sklearn.feature_extraction.text import CountVectorizer\n",
    "from sklearn.utils.multiclass import unique_labels\n",
    "from sklearn.feature_selection import chi2\n",
    "from sklearn.model_selection import train_test_split\n",
    "from sklearn.naive_bayes import MultinomialNB\n",
    "from sklearn.metrics import classification_report, confusion_matrix\n",
    "\n",
    "import matplotlib.pyplot as plt\n",
    "from pylab import barh,plot,yticks,show,grid,xlabel,figure\n",
    "\n",
    "np.random.seed(42)"
   ]
  },
  {
   "cell_type": "markdown",
   "metadata": {},
   "source": [
    "Helper functions for data cleansing and plotting:"
   ]
  },
  {
   "cell_type": "code",
   "execution_count": 2,
   "metadata": {},
   "outputs": [],
   "source": [
    "def read_float_with_comma(num):\n",
    "    return float(num.replace(\",\", \".\"))\n",
    "\n",
    "def plot_confusion_matrix(y_true, y_pred, classes,\n",
    "                          normalize=False,\n",
    "                          title=None,\n",
    "                          cmap=plt.cm.Blues):\n",
    "    \"\"\"\n",
    "    This function prints and plots the confusion matrix.\n",
    "    Normalization can be applied by setting `normalize=True`.\n",
    "    \"\"\"\n",
    "    if not title:\n",
    "        if normalize:\n",
    "            title = 'Normalized confusion matrix'\n",
    "        else:\n",
    "            title = 'Confusion matrix, without normalization'\n",
    "\n",
    "    # Compute confusion matrix\n",
    "    cm = confusion_matrix(y_true, y_pred)\n",
    "    # Only use the labels that appear in the data\n",
    "    classes = list(unique_labels(y_true, y_pred))\n",
    "    if normalize:\n",
    "        cm = cm.astype('float') / cm.sum(axis=1)[:, np.newaxis]\n",
    "        print(\"Normalized confusion matrix\")\n",
    "    else:\n",
    "        print('Confusion matrix, without normalization')\n",
    "\n",
    "    print(cm)\n",
    "\n",
    "    fig, ax = plt.subplots()\n",
    "    im = ax.imshow(cm, interpolation='nearest', cmap=cmap)\n",
    "    ax.figure.colorbar(im, ax=ax)\n",
    "    # We want to show all ticks...\n",
    "    ax.set(xticks=np.arange(cm.shape[1]),\n",
    "           yticks=np.arange(cm.shape[0]),\n",
    "           # ... and label them with the respective list entries\n",
    "           xticklabels=classes, yticklabels=classes,\n",
    "           title=title,\n",
    "           ylabel='True label',\n",
    "           xlabel='Predicted label')\n",
    "\n",
    "    # Rotate the tick labels and set their alignment.\n",
    "    plt.setp(ax.get_xticklabels(), rotation=45, ha=\"right\",\n",
    "             rotation_mode=\"anchor\")\n",
    "\n",
    "    # Loop over data dimensions and create text annotations.\n",
    "    fmt = '.2f' if normalize else 'd'\n",
    "    thresh = cm.max() / 2.\n",
    "    for i in range(cm.shape[0]):\n",
    "        for j in range(cm.shape[1]):\n",
    "            ax.text(j, i, format(cm[i, j], fmt),\n",
    "                    ha=\"center\", va=\"center\",\n",
    "                    color=\"white\" if cm[i, j] > thresh else \"black\")\n",
    "    fig.tight_layout()\n",
    "    return ax\n"
   ]
  },
  {
   "cell_type": "markdown",
   "metadata": {},
   "source": [
    "Load data into pandas dataframe:"
   ]
  },
  {
   "cell_type": "code",
   "execution_count": 3,
   "metadata": {},
   "outputs": [],
   "source": [
    "df = pd.read_csv('Exercise 1 - Transaction Classification - Data Set.csv', sep=';')"
   ]
  },
  {
   "cell_type": "markdown",
   "metadata": {},
   "source": [
    "Plot of the property 'Betrag', which showed that it does not really qualify as an input feature due to the similarites of the values for almost all classes:"
   ]
  },
  {
   "cell_type": "code",
   "execution_count": 4,
   "metadata": {},
   "outputs": [
    {
     "data": {
      "image/png": "[encoded data removed]",
      "text/plain": [
       "<Figure size 432x288 with 1 Axes>"
      ]
     },
     "metadata": {},
     "output_type": "display_data"
    }
   ],
   "source": [
    "df['label']\n",
    "labels={'income':1,'living':2,'leisure':3,'standardOfLiving':4,'finance':5,'private':6}\n",
    "\n",
    "betrag = []\n",
    "for ind, val in enumerate(df['Betrag']):\n",
    "    plt.plot(labels[df['label'][ind]],read_float_with_comma(val),'.')\n",
    "plt.show()"
   ]
  },
  {
   "cell_type": "markdown",
   "metadata": {},
   "source": [
    "Preprocessing of the text data: \n",
    "    1. Extract relevant raw text from the dataframe. \n",
    "    2. Train/Test Split (75%/25%)\n",
    "    3. Fitting the CountVectorizer to transform text data into numerical vectors"
   ]
  },
  {
   "cell_type": "code",
   "execution_count": null,
   "metadata": {},
   "outputs": [],
   "source": [
    "#1.\n",
    "text_data = []\n",
    "labels = []\n",
    "for text, empf, verw, label in zip(df['Buchungstext'],df['Beguenstigter/Zahlungspflichtiger'], df['Verwendungszweck'],df['label']):\n",
    "    text_data.append(str(text) + ' ' + str(empf) + ' ' + str(verw))\n",
    "    labels.append(str(label))\n",
    "    \n",
    "# 2.\n",
    "X_train, X_test, Y_train, Y_test = train_test_split(zweck_all, labels)\n",
    "\n",
    "# 3.\n",
    "count = CountVectorizer(token_pattern='(?u)\\\\b[\\\\w-]+\\\\b')\n",
    "# token_pattern: regex to tokenize words who are seperated by '-' as on word\n",
    "bag = count.fit_transform(X_train)\n",
    "bag_test = count.transform(X_test)"
   ]
  },
  {
   "cell_type": "markdown",
   "metadata": {},
   "source": [
    "Below, the machine learning part begins, with training of the classifier, than predicting the test set:"
   ]
  },
  {
   "cell_type": "code",
   "execution_count": 6,
   "metadata": {},
   "outputs": [],
   "source": [
    "clf = MultinomialNB().fit(bag.toarray(), Y_train)\n",
    "predicted = clf.predict(bag_test.toarray())\n",
    "\n",
    "result = list(zip(predicted,Y_test))\n",
    "i = 0\n",
    "for val in result:\n",
    "    if val[0] == val[1]:\n",
    "        i+=1\n",
    "\n"
   ]
  },
  {
   "cell_type": "markdown",
   "metadata": {},
   "source": [
    "Last cell shows the results of the task plotted as confusion matrix (Figure 1) and a classification report (Table 1). Furthermore, the result of a chi square test is plotted, see more details by reading the dedicated paper. "
   ]
  },
  {
   "cell_type": "code",
   "execution_count": 7,
   "metadata": {},
   "outputs": [
    {
     "name": "stdout",
     "output_type": "stream",
     "text": [
      "Confusion matrix, without normalization\n",
      "[[ 8  0  0  0  0  0]\n",
      " [ 0  4  0  0  0  0]\n",
      " [ 0  0 16  0  0  0]\n",
      " [ 0  0  0  5  0  2]\n",
      " [ 1  0  1  0  4  0]\n",
      " [ 0  0  1  0  0 11]]\n",
      "\n",
      "Figure 1:\n"
     ]
    },
    {
     "data": {
      "image/png": "[encoded data removed]",
      "text/plain": [
       "<Figure size 432x288 with 2 Axes>"
      ]
     },
     "metadata": {},
     "output_type": "display_data"
    },
    {
     "name": "stdout",
     "output_type": "stream",
     "text": [
      "\n",
      "Table 1:\n",
      "                  precision    recall  f1-score   support\n",
      "\n",
      "         finance       0.89      1.00      0.94         8\n",
      "          income       1.00      1.00      1.00         4\n",
      "         leisure       0.89      1.00      0.94        16\n",
      "          living       1.00      0.71      0.83         7\n",
      "         private       1.00      0.67      0.80         6\n",
      "standardOfLiving       0.85      0.92      0.88        12\n",
      "\n",
      "        accuracy                           0.91        53\n",
      "       macro avg       0.94      0.88      0.90        53\n",
      "    weighted avg       0.91      0.91      0.90        53\n",
      "\n",
      "\n",
      "Figure 2:\n"
     ]
    },
    {
     "data": {
      "image/png": "[encoded data removed]",
      "text/plain": [
       "<Figure size 288x288 with 1 Axes>"
      ]
     },
     "metadata": {},
     "output_type": "display_data"
    }
   ],
   "source": [
    "class_names = ['finance', 'income', 'leisure', 'living', 'private', 'standardOfLiving']\n",
    "\n",
    "np.set_printoptions(precision=2)\n",
    "\n",
    "# Plot non-normalized confusion matrix\n",
    "plot_confusion_matrix(Y_test, predicted, classes=class_names,\n",
    "                      title='Confusion matrix, without normalization')\n",
    "\n",
    "print('\\nFigure 1:')\n",
    "plt.show()\n",
    "\n",
    "print('\\nTable 1:')\n",
    "\n",
    "# print classification report with f1 score\n",
    "print(classification_report(Y_test, predicted, target_names=class_names))\n",
    "\n",
    "print('\\nFigure 2:')\n",
    "\n",
    "# compute chi2 for each feature\n",
    "chi2score = chi2(bag,Y_train)[0]\n",
    "\n",
    "# plot 10 best chi2 scores\n",
    "figure(figsize=(4,4))\n",
    "wscores = zip(count.get_feature_names(),chi2score)\n",
    "wchi2 = sorted(wscores,key=lambda x:x[1]) \n",
    "topchi2 = list(zip(*wchi2[-10:]))\n",
    "x = range(len(topchi2[1]))\n",
    "labels = topchi2[0]\n",
    "barh(x,topchi2[1],align='center',alpha=.2,color='g')\n",
    "plot(topchi2[1],x,'-o',markersize=2,alpha=.8,color='g')\n",
    "yticks(x,labels)\n",
    "xlabel('$\\chi^2$')\n",
    "show()"
   ]
  }
 ],
 "metadata": {
  "kernelspec": {
   "display_name": "Python [conda env:saki] *",
   "language": "python",
   "name": "conda-env-saki-py"
  },
  "language_info": {
   "codemirror_mode": {
    "name": "ipython",
    "version": 3
   },
   "file_extension": ".py",
   "mimetype": "text/x-python",
   "name": "python",
   "nbconvert_exporter": "python",
   "pygments_lexer": "ipython3",
   "version": "3.6.8"
  }
 },
 "nbformat": 4,
 "nbformat_minor": 2
}
